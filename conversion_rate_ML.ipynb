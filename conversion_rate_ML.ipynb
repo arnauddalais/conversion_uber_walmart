{
 "cells": [
  {
   "cell_type": "code",
   "execution_count": 1,
   "metadata": {},
   "outputs": [],
   "source": [
    "import pandas as pd\n",
    "import numpy as np\n",
    "import seaborn as sns\n",
    "from sklearn.model_selection import train_test_split\n",
    "from sklearn.pipeline import Pipeline\n",
    "from sklearn.preprocessing import StandardScaler, OneHotEncoder, LabelEncoder\n",
    "from sklearn.compose import ColumnTransformer\n",
    "from sklearn.linear_model import LogisticRegression\n",
    "from sklearn.metrics import f1_score, ConfusionMatrixDisplay\n",
    "from sklearn.model_selection import cross_val_score, GridSearchCV\n",
    "from sklearn.tree import DecisionTreeClassifier\n",
    "from sklearn.ensemble import RandomForestClassifier, BaggingClassifier, AdaBoostClassifier, GradientBoostingClassifier, StackingClassifier\n",
    "from xgboost import XGBClassifier\n",
    "import matplotlib.pyplot as plt\n",
    "import plotly.express as px\n",
    "import plotly.graph_objects as go\n",
    "import plotly.io as pio\n",
    "\n",
    "import joblib"
   ]
  },
  {
   "cell_type": "code",
   "execution_count": 2,
   "metadata": {},
   "outputs": [],
   "source": [
    "#read the file\n",
    "df = pd.read_csv('src/conversion_data_train.csv')\n"
   ]
  },
  {
   "cell_type": "code",
   "execution_count": 3,
   "metadata": {},
   "outputs": [
    {
     "data": {
      "text/plain": [
       "Index(['country', 'age', 'new_user', 'source', 'total_pages_visited',\n",
       "       'converted'],\n",
       "      dtype='object')"
      ]
     },
     "execution_count": 3,
     "metadata": {},
     "output_type": "execute_result"
    }
   ],
   "source": [
    "#see colummns\n",
    "df.columns"
   ]
  },
  {
   "cell_type": "code",
   "execution_count": 4,
   "metadata": {},
   "outputs": [],
   "source": [
    "# the new_user columns is not a numerical features, i change the information  '1' by  a 'Y' and '0' by 'N'\n",
    "df['new_user'] =  df['new_user'].astype(str)\n",
    "df['new_user'] = [ 'Y' if x == '1' else 'N' for x in df['new_user'] ]"
   ]
  },
  {
   "cell_type": "code",
   "execution_count": 5,
   "metadata": {},
   "outputs": [
    {
     "name": "stdout",
     "output_type": "stream",
     "text": [
      "Separating labels from features...\n",
      "...Done.\n",
      "\n",
      "Y : \n",
      "0    0\n",
      "1    0\n",
      "2    1\n",
      "3    0\n",
      "4    0\n",
      "Name: converted, dtype: int64\n",
      "\n",
      "X :\n",
      "   country  age new_user  source  total_pages_visited\n",
      "0    China   22        Y  Direct                    2\n",
      "1       UK   21        Y     Ads                    3\n",
      "2  Germany   20        N     Seo                   14\n",
      "3       US   23        Y     Seo                    3\n",
      "4       US   28        Y  Direct                    3\n"
     ]
    }
   ],
   "source": [
    "# Separate target variable Y from features X\n",
    "print(\"Separating labels from features...\")\n",
    "features_list = ['country','age', 'new_user', 'source', 'total_pages_visited']\n",
    "target_variable = 'converted'\n",
    "\n",
    "X = df.loc[:,features_list]\n",
    "Y = df.loc[:,target_variable]\n",
    "\n",
    "print(\"...Done.\")\n",
    "print()\n",
    "\n",
    "print('Y : ')\n",
    "print(Y.head())\n",
    "print()\n",
    "print('X :')\n",
    "print(X.head())"
   ]
  },
  {
   "cell_type": "code",
   "execution_count": 6,
   "metadata": {},
   "outputs": [
    {
     "name": "stdout",
     "output_type": "stream",
     "text": [
      "Found numeric features  ['age', 'total_pages_visited']\n",
      "Found categorical features  ['country', 'new_user', 'source']\n"
     ]
    },
    {
     "name": "stderr",
     "output_type": "stream",
     "text": [
      "C:\\Users\\dunca\\AppData\\Local\\Temp\\ipykernel_5968\\2249989688.py:4: FutureWarning: iteritems is deprecated and will be removed in a future version. Use .items instead.\n",
      "  for i,t in X.dtypes.iteritems():\n"
     ]
    }
   ],
   "source": [
    "# Automatically detect names of numeric/categorical columns\n",
    "numeric_features = []\n",
    "categorical_features = []\n",
    "for i,t in X.dtypes.iteritems():\n",
    "    if ('float' in str(t)) or ('int' in str(t)) :\n",
    "        numeric_features.append(i)\n",
    "    else :\n",
    "        categorical_features.append(i)\n",
    "\n",
    "print('Found numeric features ', numeric_features)\n",
    "print('Found categorical features ', categorical_features)"
   ]
  },
  {
   "cell_type": "code",
   "execution_count": 7,
   "metadata": {},
   "outputs": [
    {
     "name": "stdout",
     "output_type": "stream",
     "text": [
      "Dividing into train and test sets...\n",
      "...Done.\n",
      "\n"
     ]
    }
   ],
   "source": [
    "# Divide dataset Train set & Test set \n",
    "print(\"Dividing into train and test sets...\")\n",
    "X_train, X_test, Y_train, Y_test = train_test_split(X, Y, test_size=0.2, random_state=0, stratify = Y)\n",
    "print(\"...Done.\")\n",
    "print()"
   ]
  },
  {
   "cell_type": "code",
   "execution_count": 8,
   "metadata": {},
   "outputs": [],
   "source": [
    "# Create pipeline for numeric features\n",
    "numeric_transformer = Pipeline(steps=[('scaler', StandardScaler())])\n",
    "\n",
    "categorical_transformer = Pipeline(steps=[('encoder', OneHotEncoder(drop='first')) # first column will be dropped to avoid creating correlations between features\n",
    "    ])"
   ]
  },
  {
   "cell_type": "code",
   "execution_count": 9,
   "metadata": {},
   "outputs": [],
   "source": [
    "# Use ColumnTransformer to make a preprocessor object that describes all the treatments to be done\n",
    "preprocessor = ColumnTransformer(\n",
    "    transformers=[\n",
    "        ('num', numeric_transformer, numeric_features),\n",
    "        ('cat', categorical_transformer, categorical_features)\n",
    "    ])"
   ]
  },
  {
   "cell_type": "code",
   "execution_count": 10,
   "metadata": {},
   "outputs": [
    {
     "name": "stdout",
     "output_type": "stream",
     "text": [
      "Performing preprocessings on train set...\n",
      "       country  age new_user  source  total_pages_visited\n",
      "137434   China   19        Y     Seo                    1\n",
      "112323      US   33        Y  Direct                    5\n",
      "143261      US   51        Y     Ads                    2\n",
      "162328   China   17        N     Seo                    1\n",
      "158039   China   28        Y     Seo                    5\n",
      "...Done.\n",
      "[[-1.3990984  -1.15935344  0.          0.          0.          1.\n",
      "   0.          1.        ]\n",
      " [ 0.29299544  0.03743241  0.          0.          1.          1.\n",
      "   1.          0.        ]\n",
      " [ 2.46854467 -0.86015697  0.          0.          1.          1.\n",
      "   0.          0.        ]\n",
      " [-1.64082609 -1.15935344  0.          0.          0.          0.\n",
      "   0.          1.        ]\n",
      " [-0.31132378  0.03743241  0.          0.          0.          1.\n",
      "   0.          1.        ]]\n",
      "\n",
      "Performing preprocessings on test set...\n",
      "       country  age new_user  source  total_pages_visited\n",
      "138303      UK   34        Y     Ads                    1\n",
      "133130      UK   32        N     Ads                    5\n",
      "245758      US   44        Y     Ads                    1\n",
      "185267      US   35        Y  Direct                    1\n",
      "177637      US   29        Y  Direct                    3\n",
      "...Done.\n",
      "[[ 0.41385929 -1.15935344  0.          1.          0.          1.\n",
      "   0.          0.        ]\n",
      " [ 0.1721316   0.03743241  0.          1.          0.          0.\n",
      "   0.          0.        ]\n",
      " [ 1.62249775 -1.15935344  0.          0.          1.          1.\n",
      "   0.          0.        ]\n",
      " [ 0.53472314 -1.15935344  0.          0.          1.          1.\n",
      "   1.          0.        ]\n",
      " [-0.19045994 -0.56096051  0.          0.          1.          1.\n",
      "   1.          0.        ]]\n",
      "\n"
     ]
    }
   ],
   "source": [
    "# Preprocessings on train set\n",
    "print(\"Performing preprocessings on train set...\")\n",
    "print(X_train.head())\n",
    "X_train = preprocessor.fit_transform(X_train)\n",
    "print('...Done.')\n",
    "print(X_train[0:5]) # MUST use this syntax because X_train is a numpy array and not a pandas DataFrame anymore\n",
    "print()\n",
    "\n",
    "# Preprocessings on test set\n",
    "print(\"Performing preprocessings on test set...\")\n",
    "print(X_test.head()) \n",
    "X_test = preprocessor.transform(X_test) # Don't fit again !! The test set is used for validating decisions\n",
    "# we made based on the training set, therefore we can only apply transformations that were parametered using the training set.\n",
    "# Otherwise this creates what is called a leak from the test set which will introduce a bias in all your results.\n",
    "print('...Done.')\n",
    "print(X_test[0:5,:]) # MUST use this syntax because X_test is a numpy array and not a pandas DataFrame anymore\n",
    "print()"
   ]
  },
  {
   "cell_type": "code",
   "execution_count": 11,
   "metadata": {},
   "outputs": [],
   "source": [
    "# create a dataframe for the score\n",
    "scores_df = pd.DataFrame(columns = ['model', 'f1-score', 'set'])"
   ]
  },
  {
   "cell_type": "code",
   "execution_count": 12,
   "metadata": {},
   "outputs": [
    {
     "name": "stdout",
     "output_type": "stream",
     "text": [
      "Grid search...\n",
      "{'max_depth': [8], 'min_samples_leaf': [3], 'min_samples_split': [2], 'n_estimators': [90]}\n",
      "Fitting 3 folds for each of 1 candidates, totalling 3 fits\n",
      "...Done.\n",
      "Best hyperparameters :  {'max_depth': 8, 'min_samples_leaf': 3, 'min_samples_split': 2, 'n_estimators': 90}\n",
      "Best validation accuracy :  0.9859881228477055\n",
      "f1-score on training set :  0.7697333434627364\n",
      "f1-score on test set :  0.7428397318708104\n"
     ]
    },
    {
     "name": "stderr",
     "output_type": "stream",
     "text": [
      "C:\\Users\\dunca\\AppData\\Local\\Temp\\ipykernel_5968\\2984160609.py:22: FutureWarning: The frame.append method is deprecated and will be removed from pandas in a future version. Use pandas.concat instead.\n",
      "  scores_df = scores_df.append({'model': 'random_forest', 'f1-score': f1_score(Y_train, Y_train_pred), 'set': 'train'}, ignore_index = True)\n",
      "C:\\Users\\dunca\\AppData\\Local\\Temp\\ipykernel_5968\\2984160609.py:23: FutureWarning: The frame.append method is deprecated and will be removed from pandas in a future version. Use pandas.concat instead.\n",
      "  scores_df = scores_df.append({'model': 'random_forest', 'f1-score': f1_score(Y_test, Y_test_pred), 'set': 'test'}, ignore_index = True)\n"
     ]
    },
    {
     "data": {
      "text/html": [
       "<div>\n",
       "<style scoped>\n",
       "    .dataframe tbody tr th:only-of-type {\n",
       "        vertical-align: middle;\n",
       "    }\n",
       "\n",
       "    .dataframe tbody tr th {\n",
       "        vertical-align: top;\n",
       "    }\n",
       "\n",
       "    .dataframe thead th {\n",
       "        text-align: right;\n",
       "    }\n",
       "</style>\n",
       "<table border=\"1\" class=\"dataframe\">\n",
       "  <thead>\n",
       "    <tr style=\"text-align: right;\">\n",
       "      <th></th>\n",
       "      <th>model</th>\n",
       "      <th>f1-score</th>\n",
       "      <th>set</th>\n",
       "    </tr>\n",
       "  </thead>\n",
       "  <tbody>\n",
       "    <tr>\n",
       "      <th>0</th>\n",
       "      <td>random_forest</td>\n",
       "      <td>0.769733</td>\n",
       "      <td>train</td>\n",
       "    </tr>\n",
       "    <tr>\n",
       "      <th>1</th>\n",
       "      <td>random_forest</td>\n",
       "      <td>0.742840</td>\n",
       "      <td>test</td>\n",
       "    </tr>\n",
       "  </tbody>\n",
       "</table>\n",
       "</div>"
      ],
      "text/plain": [
       "           model  f1-score    set\n",
       "0  random_forest  0.769733  train\n",
       "1  random_forest  0.742840   test"
      ]
     },
     "execution_count": 12,
     "metadata": {},
     "output_type": "execute_result"
    }
   ],
   "source": [
    "# Perform grid search with random forrest classifier\n",
    "print(\"Grid search...\")\n",
    "random_forest = RandomForestClassifier()\n",
    "\n",
    "# Grid of values to be tested\n",
    "params = {\n",
    "    'max_depth': [8],\n",
    "    'min_samples_leaf': [3],\n",
    "    'min_samples_split': [2],\n",
    "    'n_estimators': [90]\n",
    "}\n",
    "print(params)\n",
    "gridsearchRF = GridSearchCV(random_forest, param_grid = params, cv = 3, verbose = 1) # cv : the number of folds to be used for CV\n",
    "gridsearchRF.fit(X_train, Y_train)\n",
    "print(\"...Done.\")\n",
    "print(\"Best hyperparameters : \", gridsearchRF.best_params_)\n",
    "print(\"Best validation accuracy : \", gridsearchRF.best_score_)\n",
    "Y_train_pred = gridsearchRF.predict(X_train)\n",
    "Y_test_pred = gridsearchRF.predict(X_test)\n",
    "print(\"f1-score on training set : \", f1_score(Y_train, Y_train_pred))\n",
    "print(\"f1-score on test set : \", f1_score(Y_test, Y_test_pred))\n",
    "scores_df = scores_df.append({'model': 'random_forest', 'f1-score': f1_score(Y_train, Y_train_pred), 'set': 'train'}, ignore_index = True)\n",
    "scores_df = scores_df.append({'model': 'random_forest', 'f1-score': f1_score(Y_test, Y_test_pred), 'set': 'test'}, ignore_index = True)\n",
    "scores_df"
   ]
  },
  {
   "cell_type": "code",
   "execution_count": 13,
   "metadata": {},
   "outputs": [
    {
     "name": "stdout",
     "output_type": "stream",
     "text": [
      "Training Bagging of decision tree...\n",
      "...Done.\n",
      "f1-score on training set :  0.7731533558305211\n",
      "f1-score on test set :  0.744297719087635\n"
     ]
    },
    {
     "name": "stderr",
     "output_type": "stream",
     "text": [
      "C:\\Users\\dunca\\AppData\\Local\\Temp\\ipykernel_5968\\1521715860.py:11: FutureWarning: The frame.append method is deprecated and will be removed from pandas in a future version. Use pandas.concat instead.\n",
      "  scores_df = scores_df.append({'model': 'bagging_dt', 'f1-score': f1_score(Y_train, Y_train_pred), 'set': 'train'}, ignore_index = True)\n",
      "C:\\Users\\dunca\\AppData\\Local\\Temp\\ipykernel_5968\\1521715860.py:12: FutureWarning: The frame.append method is deprecated and will be removed from pandas in a future version. Use pandas.concat instead.\n",
      "  scores_df = scores_df.append({'model': 'bagging_dt', 'f1-score': f1_score(Y_test, Y_test_pred), 'set': 'test'}, ignore_index = True)\n"
     ]
    },
    {
     "data": {
      "text/html": [
       "<div>\n",
       "<style scoped>\n",
       "    .dataframe tbody tr th:only-of-type {\n",
       "        vertical-align: middle;\n",
       "    }\n",
       "\n",
       "    .dataframe tbody tr th {\n",
       "        vertical-align: top;\n",
       "    }\n",
       "\n",
       "    .dataframe thead th {\n",
       "        text-align: right;\n",
       "    }\n",
       "</style>\n",
       "<table border=\"1\" class=\"dataframe\">\n",
       "  <thead>\n",
       "    <tr style=\"text-align: right;\">\n",
       "      <th></th>\n",
       "      <th>model</th>\n",
       "      <th>f1-score</th>\n",
       "      <th>set</th>\n",
       "    </tr>\n",
       "  </thead>\n",
       "  <tbody>\n",
       "    <tr>\n",
       "      <th>0</th>\n",
       "      <td>random_forest</td>\n",
       "      <td>0.769733</td>\n",
       "      <td>train</td>\n",
       "    </tr>\n",
       "    <tr>\n",
       "      <th>1</th>\n",
       "      <td>random_forest</td>\n",
       "      <td>0.742840</td>\n",
       "      <td>test</td>\n",
       "    </tr>\n",
       "    <tr>\n",
       "      <th>2</th>\n",
       "      <td>bagging_dt</td>\n",
       "      <td>0.773153</td>\n",
       "      <td>train</td>\n",
       "    </tr>\n",
       "    <tr>\n",
       "      <th>3</th>\n",
       "      <td>bagging_dt</td>\n",
       "      <td>0.744298</td>\n",
       "      <td>test</td>\n",
       "    </tr>\n",
       "  </tbody>\n",
       "</table>\n",
       "</div>"
      ],
      "text/plain": [
       "           model  f1-score    set\n",
       "0  random_forest  0.769733  train\n",
       "1  random_forest  0.742840   test\n",
       "2     bagging_dt  0.773153  train\n",
       "3     bagging_dt  0.744298   test"
      ]
     },
     "execution_count": 13,
     "metadata": {},
     "output_type": "execute_result"
    }
   ],
   "source": [
    "# perform Bagging with decision tree classifier\n",
    "print('Training Bagging of decision tree...')\n",
    "decision_tree = DecisionTreeClassifier(max_depth = 8, min_samples_leaf = 1, min_samples_split = 4) # Same hyperparameters as best RF model\n",
    "bagging = BaggingClassifier(base_estimator=decision_tree, n_estimators = 20)\n",
    "bagging.fit(X_train, Y_train)\n",
    "print(\"...Done.\")\n",
    "Y_train_pred = bagging.predict(X_train)\n",
    "Y_test_pred = bagging.predict(X_test)\n",
    "print(\"f1-score on training set : \", f1_score(Y_train, Y_train_pred))\n",
    "print(\"f1-score on test set : \", f1_score(Y_test, Y_test_pred))\n",
    "scores_df = scores_df.append({'model': 'bagging_dt', 'f1-score': f1_score(Y_train, Y_train_pred), 'set': 'train'}, ignore_index = True)\n",
    "scores_df = scores_df.append({'model': 'bagging_dt', 'f1-score': f1_score(Y_test, Y_test_pred), 'set': 'test'}, ignore_index = True)\n",
    "scores_df"
   ]
  },
  {
   "cell_type": "code",
   "execution_count": 14,
   "metadata": {},
   "outputs": [
    {
     "name": "stdout",
     "output_type": "stream",
     "text": [
      "Training XGBClassifier...\n",
      "...Done.\n",
      "f1-score on training set :  0.7772533153517645\n",
      "f1-score on test set :  0.7491778774289984\n"
     ]
    },
    {
     "name": "stderr",
     "output_type": "stream",
     "text": [
      "C:\\Users\\dunca\\AppData\\Local\\Temp\\ipykernel_5968\\2598887916.py:10: FutureWarning: The frame.append method is deprecated and will be removed from pandas in a future version. Use pandas.concat instead.\n",
      "  scores_df = scores_df.append({'model': 'XGBoost', 'f1-score': f1_score(Y_train, Y_train_pred), 'set': 'train'}, ignore_index = True)\n",
      "C:\\Users\\dunca\\AppData\\Local\\Temp\\ipykernel_5968\\2598887916.py:11: FutureWarning: The frame.append method is deprecated and will be removed from pandas in a future version. Use pandas.concat instead.\n",
      "  scores_df = scores_df.append({'model': 'XGBoost', 'f1-score': f1_score(Y_test, Y_test_pred), 'set': 'test'}, ignore_index = True)\n"
     ]
    },
    {
     "data": {
      "text/html": [
       "<div>\n",
       "<style scoped>\n",
       "    .dataframe tbody tr th:only-of-type {\n",
       "        vertical-align: middle;\n",
       "    }\n",
       "\n",
       "    .dataframe tbody tr th {\n",
       "        vertical-align: top;\n",
       "    }\n",
       "\n",
       "    .dataframe thead th {\n",
       "        text-align: right;\n",
       "    }\n",
       "</style>\n",
       "<table border=\"1\" class=\"dataframe\">\n",
       "  <thead>\n",
       "    <tr style=\"text-align: right;\">\n",
       "      <th></th>\n",
       "      <th>model</th>\n",
       "      <th>f1-score</th>\n",
       "      <th>set</th>\n",
       "    </tr>\n",
       "  </thead>\n",
       "  <tbody>\n",
       "    <tr>\n",
       "      <th>0</th>\n",
       "      <td>random_forest</td>\n",
       "      <td>0.769733</td>\n",
       "      <td>train</td>\n",
       "    </tr>\n",
       "    <tr>\n",
       "      <th>1</th>\n",
       "      <td>random_forest</td>\n",
       "      <td>0.742840</td>\n",
       "      <td>test</td>\n",
       "    </tr>\n",
       "    <tr>\n",
       "      <th>2</th>\n",
       "      <td>bagging_dt</td>\n",
       "      <td>0.773153</td>\n",
       "      <td>train</td>\n",
       "    </tr>\n",
       "    <tr>\n",
       "      <th>3</th>\n",
       "      <td>bagging_dt</td>\n",
       "      <td>0.744298</td>\n",
       "      <td>test</td>\n",
       "    </tr>\n",
       "    <tr>\n",
       "      <th>4</th>\n",
       "      <td>XGBoost</td>\n",
       "      <td>0.777253</td>\n",
       "      <td>train</td>\n",
       "    </tr>\n",
       "    <tr>\n",
       "      <th>5</th>\n",
       "      <td>XGBoost</td>\n",
       "      <td>0.749178</td>\n",
       "      <td>test</td>\n",
       "    </tr>\n",
       "  </tbody>\n",
       "</table>\n",
       "</div>"
      ],
      "text/plain": [
       "           model  f1-score    set\n",
       "0  random_forest  0.769733  train\n",
       "1  random_forest  0.742840   test\n",
       "2     bagging_dt  0.773153  train\n",
       "3     bagging_dt  0.744298   test\n",
       "4        XGBoost  0.777253  train\n",
       "5        XGBoost  0.749178   test"
      ]
     },
     "execution_count": 14,
     "metadata": {},
     "output_type": "execute_result"
    }
   ],
   "source": [
    "\n",
    "# perform XGBoost classifier\n",
    "print('Training XGBClassifier...')\n",
    "XGBoost = XGBClassifier()\n",
    "XGBoost.fit(X_train, Y_train)\n",
    "print(\"...Done.\")\n",
    "Y_train_pred = XGBoost.predict(X_train)\n",
    "Y_test_pred = XGBoost.predict(X_test)\n",
    "print(\"f1-score on training set : \", f1_score(Y_train, Y_train_pred))\n",
    "print(\"f1-score on test set : \", f1_score(Y_test, Y_test_pred))\n",
    "scores_df = scores_df.append({'model': 'XGBoost', 'f1-score': f1_score(Y_train, Y_train_pred), 'set': 'train'}, ignore_index = True)\n",
    "scores_df = scores_df.append({'model': 'XGBoost', 'f1-score': f1_score(Y_test, Y_test_pred), 'set': 'test'}, ignore_index = True)\n",
    "scores_df"
   ]
  },
  {
   "cell_type": "code",
   "execution_count": 15,
   "metadata": {},
   "outputs": [
    {
     "name": "stdout",
     "output_type": "stream",
     "text": [
      "Grid search...\n",
      "{'base_estimator__C': [5.0], 'n_estimators': [60]}\n",
      "Fitting 3 folds for each of 1 candidates, totalling 3 fits\n",
      "...Done.\n",
      "Best hyperparameters :  {'base_estimator__C': 5.0, 'n_estimators': 60}\n",
      "Best validation accuracy :  0.9862824161922834\n",
      "f1-score on training set :  0.7655250282273239\n",
      "f1-score on test set :  0.7533875338753387\n"
     ]
    },
    {
     "name": "stderr",
     "output_type": "stream",
     "text": [
      "C:\\Users\\dunca\\AppData\\Local\\Temp\\ipykernel_5968\\1073700097.py:21: FutureWarning: The frame.append method is deprecated and will be removed from pandas in a future version. Use pandas.concat instead.\n",
      "  scores_df = scores_df.append({'model': 'adaboost_logreg', 'f1-score': f1_score(Y_train, Y_train_pred), 'set': 'train'}, ignore_index = True)\n",
      "C:\\Users\\dunca\\AppData\\Local\\Temp\\ipykernel_5968\\1073700097.py:22: FutureWarning: The frame.append method is deprecated and will be removed from pandas in a future version. Use pandas.concat instead.\n",
      "  scores_df = scores_df.append({'model': 'adaboost_logreg', 'f1-score': f1_score(Y_test, Y_test_pred), 'set': 'test'}, ignore_index = True)\n"
     ]
    },
    {
     "data": {
      "text/html": [
       "<div>\n",
       "<style scoped>\n",
       "    .dataframe tbody tr th:only-of-type {\n",
       "        vertical-align: middle;\n",
       "    }\n",
       "\n",
       "    .dataframe tbody tr th {\n",
       "        vertical-align: top;\n",
       "    }\n",
       "\n",
       "    .dataframe thead th {\n",
       "        text-align: right;\n",
       "    }\n",
       "</style>\n",
       "<table border=\"1\" class=\"dataframe\">\n",
       "  <thead>\n",
       "    <tr style=\"text-align: right;\">\n",
       "      <th></th>\n",
       "      <th>model</th>\n",
       "      <th>f1-score</th>\n",
       "      <th>set</th>\n",
       "    </tr>\n",
       "  </thead>\n",
       "  <tbody>\n",
       "    <tr>\n",
       "      <th>0</th>\n",
       "      <td>random_forest</td>\n",
       "      <td>0.769733</td>\n",
       "      <td>train</td>\n",
       "    </tr>\n",
       "    <tr>\n",
       "      <th>1</th>\n",
       "      <td>random_forest</td>\n",
       "      <td>0.742840</td>\n",
       "      <td>test</td>\n",
       "    </tr>\n",
       "    <tr>\n",
       "      <th>2</th>\n",
       "      <td>bagging_dt</td>\n",
       "      <td>0.773153</td>\n",
       "      <td>train</td>\n",
       "    </tr>\n",
       "    <tr>\n",
       "      <th>3</th>\n",
       "      <td>bagging_dt</td>\n",
       "      <td>0.744298</td>\n",
       "      <td>test</td>\n",
       "    </tr>\n",
       "    <tr>\n",
       "      <th>4</th>\n",
       "      <td>XGBoost</td>\n",
       "      <td>0.777253</td>\n",
       "      <td>train</td>\n",
       "    </tr>\n",
       "    <tr>\n",
       "      <th>5</th>\n",
       "      <td>XGBoost</td>\n",
       "      <td>0.749178</td>\n",
       "      <td>test</td>\n",
       "    </tr>\n",
       "    <tr>\n",
       "      <th>6</th>\n",
       "      <td>adaboost_logreg</td>\n",
       "      <td>0.765525</td>\n",
       "      <td>train</td>\n",
       "    </tr>\n",
       "    <tr>\n",
       "      <th>7</th>\n",
       "      <td>adaboost_logreg</td>\n",
       "      <td>0.753388</td>\n",
       "      <td>test</td>\n",
       "    </tr>\n",
       "  </tbody>\n",
       "</table>\n",
       "</div>"
      ],
      "text/plain": [
       "             model  f1-score    set\n",
       "0    random_forest  0.769733  train\n",
       "1    random_forest  0.742840   test\n",
       "2       bagging_dt  0.773153  train\n",
       "3       bagging_dt  0.744298   test\n",
       "4          XGBoost  0.777253  train\n",
       "5          XGBoost  0.749178   test\n",
       "6  adaboost_logreg  0.765525  train\n",
       "7  adaboost_logreg  0.753388   test"
      ]
     },
     "execution_count": 15,
     "metadata": {},
     "output_type": "execute_result"
    }
   ],
   "source": [
    "# Perform grid search with AdaBoost classifier on Logistic regression\n",
    "print(\"Grid search...\")\n",
    "logistic_regression = LogisticRegression(max_iter = 1000)\n",
    "adaboost_logreg = AdaBoostClassifier(logistic_regression)\n",
    "\n",
    "# Grid of values to be tested\n",
    "params = {\n",
    "    'base_estimator__C':  [5.0],\n",
    "    'n_estimators': [60]\n",
    "}\n",
    "print(params)\n",
    "gridsearchADA_LR = GridSearchCV(adaboost_logreg, param_grid = params, cv = 3, verbose = 1) # cv : the number of folds to be used for CV\n",
    "gridsearchADA_LR.fit(X_train, Y_train)\n",
    "print(\"...Done.\")\n",
    "print(\"Best hyperparameters : \", gridsearchADA_LR.best_params_)\n",
    "print(\"Best validation accuracy : \", gridsearchADA_LR.best_score_)\n",
    "Y_train_pred = gridsearchADA_LR.predict(X_train)\n",
    "Y_test_pred = gridsearchADA_LR.predict(X_test)\n",
    "print(\"f1-score on training set : \", f1_score(Y_train, Y_train_pred))\n",
    "print(\"f1-score on test set : \", f1_score(Y_test, Y_test_pred))\n",
    "scores_df = scores_df.append({'model': 'adaboost_logreg', 'f1-score': f1_score(Y_train, Y_train_pred), 'set': 'train'}, ignore_index = True)\n",
    "scores_df = scores_df.append({'model': 'adaboost_logreg', 'f1-score': f1_score(Y_test, Y_test_pred), 'set': 'test'}, ignore_index = True)\n",
    "scores_df"
   ]
  },
  {
   "cell_type": "code",
   "execution_count": 16,
   "metadata": {},
   "outputs": [
    {
     "data": {
      "image/png": "[encoded data removed]",
      "text/plain": [
       "<Figure size 640x480 with 2 Axes>"
      ]
     },
     "metadata": {},
     "output_type": "display_data"
    },
    {
     "data": {
      "image/png": "[encoded data removed]",
      "text/plain": [
       "<Figure size 640x480 with 2 Axes>"
      ]
     },
     "metadata": {},
     "output_type": "display_data"
    }
   ],
   "source": [
    "# Visualize confusion matrices\n",
    "_ , ax = plt.subplots() # Get subplot from matplotlib\n",
    "ax.set(title=\"Confusion Matrix on Train set\") # Set a title that we will add into ConfusionMatrixDisplay\n",
    "ConfusionMatrixDisplay.from_estimator(gridsearchADA_LR, X_train, Y_train, ax=ax) # ConfusionMatrixDisplay from sklearn\n",
    "plt.show()\n",
    "\n",
    "_ , ax = plt.subplots() # Get subplot from matplotlib\n",
    "ax.set(title=\"Confusion Matrix on Test set\") # Set a title that we will add into ConfusionMatrixDisplay\n",
    "ConfusionMatrixDisplay.from_estimator(gridsearchADA_LR, X_test, Y_test, ax=ax) # ConfusionMatrixDisplay from sklearn\n",
    "plt.show()"
   ]
  },
  {
   "attachments": {},
   "cell_type": "markdown",
   "metadata": {},
   "source": [
    "# Train best classifier on all data and use it to make predictions on X_without_labels\n",
    "**Before making predictions on the file conversion_data_test.csv, let's train our model on ALL the data that was in conversion_data_train.csv. Sometimes, this allows to make tiny improvements in the score because we're using more examples to train the model.**"
   ]
  },
  {
   "cell_type": "code",
   "execution_count": 17,
   "metadata": {},
   "outputs": [
    {
     "name": "stdout",
     "output_type": "stream",
     "text": [
      "Fitting 3 folds for each of 1 candidates, totalling 3 fits\n",
      "f1-score on all set :  0.7629848585389396\n"
     ]
    }
   ],
   "source": [
    "# Concatenate our train and test set to train your best classifier on all data with labels\n",
    "X = np.append(X_train,X_test,axis=0)\n",
    "Y = np.append(Y_train,Y_test)\n",
    "\n",
    "gridsearchADA_LR.fit(X,Y)\n",
    "\n",
    "Y_pred = gridsearchADA_LR.predict(X)\n",
    "print(\"f1-score on all set : \", f1_score(Y, Y_pred))\n"
   ]
  },
  {
   "cell_type": "code",
   "execution_count": 18,
   "metadata": {},
   "outputs": [
    {
     "data": {
      "image/png": "[encoded data removed]",
      "text/plain": [
       "<Figure size 640x480 with 2 Axes>"
      ]
     },
     "metadata": {},
     "output_type": "display_data"
    }
   ],
   "source": [
    "# confusion matrix on all train file\n",
    "_ , ax = plt.subplots() # Get subplot from matplotlib\n",
    "ax.set(title=\"Confusion Matrix on all set\") # Set a title that we will add into ConfusionMatrixDisplay\n",
    "ax.set_xlabel('Predicted Values')\n",
    "ax.set_ylabel('Actual Values ')\n",
    "\n",
    "ConfusionMatrixDisplay.from_estimator(gridsearchADA_LR, X, Y, ax=ax) # ConfusionMatrixDisplay from sklearn\n",
    "plt.show()"
   ]
  },
  {
   "cell_type": "code",
   "execution_count": 19,
   "metadata": {},
   "outputs": [
    {
     "data": {
      "text/plain": [
       "['src/model.joblib']"
      ]
     },
     "execution_count": 19,
     "metadata": {},
     "output_type": "execute_result"
    }
   ],
   "source": [
    "#save the best model\n",
    "joblib.dump(gridsearchADA_LR.best_estimator_, \"src/model.joblib\", compress=3)"
   ]
  }
 ],
 "metadata": {
  "kernelspec": {
   "display_name": "Python 3",
   "language": "python",
   "name": "python3"
  },
  "language_info": {
   "codemirror_mode": {
    "name": "ipython",
    "version": 3
   },
   "file_extension": ".py",
   "mimetype": "text/x-python",
   "name": "python",
   "nbconvert_exporter": "python",
   "pygments_lexer": "ipython3",
   "version": "3.10.7"
  },
  "orig_nbformat": 4,
  "vscode": {
   "interpreter": {
    "hash": "278252670ec473998422183e7c7c20bd7526adc6817e623fe2d4e128b05eb28d"
   }
  }
 },
 "nbformat": 4,
 "nbformat_minor": 2
}
